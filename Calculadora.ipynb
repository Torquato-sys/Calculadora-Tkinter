{
 "cells": [
  {
   "cell_type": "code",
   "execution_count": 21,
   "metadata": {},
   "outputs": [
    {
     "data": {
      "text/plain": [
       "''"
      ]
     },
     "execution_count": 21,
     "metadata": {},
     "output_type": "execute_result"
    }
   ],
   "source": [
    "import tkinter as tk\n",
    "from tkinter import *\n",
    "from tkinter import ttk\n",
    "\n",
    "# Paleta de cores\n",
    "cor1 = \"#282829\" # black/preta\n",
    "cor2 = \"#feffff\" # white/branca\n",
    "cor3 = \"#38576b\" # Blue/azul\n",
    "cor4 = \"#ECEFF1\" # Grey/cinza\n",
    "cor5 = \"#FFAB40\" # Orange/laranja\n",
    "\n",
    "# Interface\n",
    "janela = tk.Tk()\n",
    "janela.title(\"Calculadora\")\n",
    "janela.geometry(\"239x318\")\n",
    "janela.config(bg=cor1)\n",
    "icone = tk.PhotoImage(file='calculadora.png')\n",
    "janela.iconphoto(False, icone)\n",
    "janela.resizable(width=False, height=False)\n",
    "\n"
   ]
  },
  {
   "cell_type": "code",
   "execution_count": 22,
   "metadata": {},
   "outputs": [],
   "source": [
    "# Frames\n",
    "frame_tela = Frame(janela, width=240, height=58, bg=cor3)\n",
    "frame_tela.grid(row=0, column=0)\n",
    "\n",
    "frame_corpo = Frame(janela, width=240, height=260)\n",
    "frame_corpo.grid(row=1, column=0)\n"
   ]
  },
  {
   "cell_type": "code",
   "execution_count": 23,
   "metadata": {},
   "outputs": [],
   "source": [
    "valor_texto = StringVar()\n",
    "# label texto dos calculos\n",
    "app_label = Label(frame_tela, textvariable = valor_texto, width=13, height=2, padx=7, relief=FLAT, anchor=\"e\", justify=RIGHT, font=('Ivy 20 bold'), bg=cor3, fg=cor2)\n",
    "app_label.place(x=0, y=0)"
   ]
  },
  {
   "cell_type": "code",
   "execution_count": 24,
   "metadata": {},
   "outputs": [],
   "source": [
    "\n",
    "todos_valores = ''\n",
    "\n",
    "\n",
    "# função calculadora\n",
    "\n",
    "def entrar_valores(event):\n",
    "    global todos_valores\n",
    "    todos_valores = todos_valores + str(event)\n",
    "\n",
    "    valor_texto.set(todos_valores)\n",
    "\n",
    "\n",
    "# função para calcular\n",
    "\n",
    "def calcular():\n",
    "    global todos_valores\n",
    "    resultado = eval(todos_valores)\n",
    "    valor_texto.set(str(resultado))\n",
    "\n",
    "\n",
    "# função limpa tela\n",
    "\n",
    "def limpar_tela():\n",
    "    global todos_valores\n",
    "    todos_valores = ''\n",
    "    valor_texto.set('')\n"
   ]
  },
  {
   "cell_type": "code",
   "execution_count": 25,
   "metadata": {},
   "outputs": [],
   "source": [
    "# primeira fileira de botões\n",
    "b_1 = Button(frame_corpo, command=limpar_tela, text=\"C\", width=11, height=2, bg=cor4, font=('Ivy 13 bold'), relief=RAISED, overrelief=RIDGE)\n",
    "b_1.place(x=0, y=0)\n",
    "\n",
    "b_2 = Button(frame_corpo, command= lambda: entrar_valores('%'), text=\"%\", width=5, height=2, bg=cor4, font=('Ivy 13 bold'), relief=RAISED, overrelief=RIDGE)\n",
    "b_2.place(x=120.4, y=0)\n",
    "\n",
    "b_3 = Button(frame_corpo, command= lambda: entrar_valores('/'), text=\"/\", width=5, height=2, bg=cor5, fg=cor2, font=('Ivy 13 bold'), relief=RAISED, overrelief=RIDGE)\n",
    "b_3.place(x=180, y=0)"
   ]
  },
  {
   "cell_type": "code",
   "execution_count": 26,
   "metadata": {},
   "outputs": [],
   "source": [
    "# segunda fileira de botões\n",
    "b_4 = Button(frame_corpo, command= lambda: entrar_valores('7'), text=\"7\", width=5, height=2, bg=cor4, font=('Ivy 13 bold'), relief=RAISED, overrelief=RIDGE)\n",
    "b_4.place(x=0, y=52)\n",
    "\n",
    "b_5 = Button(frame_corpo, command= lambda: entrar_valores('8'), text=\"8\", width=5, height=2, bg=cor4, font=('Ivy 13 bold'), relief=RAISED, overrelief=RIDGE)\n",
    "b_5.place(x=59.5, y=52)\n",
    "\n",
    "b_6 = Button(frame_corpo, command= lambda: entrar_valores('9'), text=\"9\", width=5, height=2, bg=cor4, font=('Ivy 13 bold'), relief=RAISED, overrelief=RIDGE)\n",
    "b_6.place(x=120.4, y=52)\n",
    "\n",
    "b_7 = Button(frame_corpo, command= lambda: entrar_valores('*'), text=\"*\", width=5, height=2, bg=cor5, fg=cor2, font=('Ivy 13 bold'), relief=RAISED, overrelief=RIDGE)\n",
    "b_7.place(x=180, y=52)"
   ]
  },
  {
   "cell_type": "code",
   "execution_count": 27,
   "metadata": {},
   "outputs": [],
   "source": [
    "# terceira fileira de botões\n",
    "b_8 = Button(frame_corpo, command= lambda: entrar_valores('4'), text=\"4\", width=5, height=2, bg=cor4, font=('Ivy 13 bold'), relief=RAISED, overrelief=RIDGE)\n",
    "b_8.place(x=0, y=104)\n",
    "\n",
    "b_9 = Button(frame_corpo, command= lambda: entrar_valores('5'), text=\"5\", width=5, height=2, bg=cor4, font=('Ivy 13 bold'), relief=RAISED, overrelief=RIDGE)\n",
    "b_9.place(x=59.5, y=104)\n",
    "\n",
    "b_10 = Button(frame_corpo, command= lambda: entrar_valores('6'), text=\"6\", width=5, height=2, bg=cor4, font=('Ivy 13 bold'), relief=RAISED, overrelief=RIDGE)\n",
    "b_10.place(x=120.4, y=104)\n",
    "\n",
    "b_11 = Button(frame_corpo, command= lambda: entrar_valores('-'), text=\"-\", width=5, height=2, bg=cor5, fg=cor2, font=('Ivy 13 bold'), relief=RAISED, overrelief=RIDGE)\n",
    "b_11.place(x=180, y=104)"
   ]
  },
  {
   "cell_type": "code",
   "execution_count": 28,
   "metadata": {},
   "outputs": [],
   "source": [
    "# quarta fileira de botões\n",
    "b_12 = Button(frame_corpo, command= lambda: entrar_valores('1'), text=\"1\", width=5, height=2, bg=cor4, font=('Ivy 13 bold'), relief=RAISED, overrelief=RIDGE)\n",
    "b_12.place(x=0, y=156)\n",
    "\n",
    "b_13 = Button(frame_corpo, command= lambda: entrar_valores('2'), text=\"2\", width=5, height=2, bg=cor4, font=('Ivy 13 bold'), relief=RAISED, overrelief=RIDGE)\n",
    "b_13.place(x=59.5, y=156)\n",
    "\n",
    "b_14 = Button(frame_corpo, command= lambda: entrar_valores('3'), text=\"3\", width=5, height=2, bg=cor4, font=('Ivy 13 bold'), relief=RAISED, overrelief=RIDGE)\n",
    "b_14.place(x=120.4, y=156)\n",
    "\n",
    "b_15 = Button(frame_corpo, command= lambda: entrar_valores('+'), text=\"+\", width=5, height=2, bg=cor5, fg=cor2, font=('Ivy 13 bold'), relief=RAISED, overrelief=RIDGE)\n",
    "b_15.place(x=180, y=156)"
   ]
  },
  {
   "cell_type": "code",
   "execution_count": 29,
   "metadata": {},
   "outputs": [],
   "source": [
    "# quinta fileira de botões\n",
    "b_16 = Button(frame_corpo, command= lambda: entrar_valores('0'), text=\"0\", width=11, height=2, bg=cor4, font=('Ivy 13 bold'), relief=RAISED, overrelief=RIDGE)\n",
    "b_16.place(x=0, y=208)\n",
    "\n",
    "b_17 = Button(frame_corpo, command= lambda: entrar_valores('.'), text=\".\", width=5, height=2, bg=cor4, font=('Ivy 13 bold'), relief=RAISED, overrelief=RIDGE)\n",
    "b_17.place(x=120.4, y=208)\n",
    "\n",
    "b_18 = Button(frame_corpo, command= calcular, text=\"=\", width=5, height=2, bg=cor5, fg=cor2, font=('Ivy 13 bold'), relief=RAISED, overrelief=RIDGE)\n",
    "b_18.place(x=180, y=208)"
   ]
  },
  {
   "cell_type": "code",
   "execution_count": 30,
   "metadata": {},
   "outputs": [],
   "source": [
    "\n",
    "# looping da janela para permanecer aberta\n",
    "janela.mainloop()"
   ]
  }
 ],
 "metadata": {
  "kernelspec": {
   "display_name": "Python 3",
   "language": "python",
   "name": "python3"
  },
  "language_info": {
   "codemirror_mode": {
    "name": "ipython",
    "version": 3
   },
   "file_extension": ".py",
   "mimetype": "text/x-python",
   "name": "python",
   "nbconvert_exporter": "python",
   "pygments_lexer": "ipython3",
   "version": "3.11.4"
  },
  "orig_nbformat": 4
 },
 "nbformat": 4,
 "nbformat_minor": 2
}
